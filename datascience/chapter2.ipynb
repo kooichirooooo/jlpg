{
 "cells": [
  {
   "cell_type": "code",
   "execution_count": 5,
   "id": "modular-saver",
   "metadata": {},
   "outputs": [
    {
     "data": {
      "text/plain": [
       "Dict{Symbol, Int64} with 2 entries:\n",
       "  :a => 1\n",
       "  :b => 2"
      ]
     },
     "execution_count": 5,
     "metadata": {},
     "output_type": "execute_result"
    }
   ],
   "source": [
    "d = Dict(:a => 1, :b => 2)"
   ]
  },
  {
   "cell_type": "code",
   "execution_count": 10,
   "id": "convenient-region",
   "metadata": {},
   "outputs": [
    {
     "data": {
      "text/html": [
       "<table class=\"data-frame\"><thead><tr><th></th><th>x1</th><th>x2</th><th>x3</th><th>x4</th><th>x5</th></tr><tr><th></th><th>Float64</th><th>Float64</th><th>Float64</th><th>Float64</th><th>Float64</th></tr></thead><tbody><p>5 rows × 5 columns</p><tr><th>1</th><td>0.768448</td><td>0.662555</td><td>0.163666</td><td>0.463847</td><td>0.70586</td></tr><tr><th>2</th><td>0.940515</td><td>0.586022</td><td>0.473017</td><td>0.275819</td><td>0.291978</td></tr><tr><th>3</th><td>0.673959</td><td>0.0521332</td><td>0.865412</td><td>0.446568</td><td>0.281066</td></tr><tr><th>4</th><td>0.395453</td><td>0.26864</td><td>0.617492</td><td>0.582318</td><td>0.792931</td></tr><tr><th>5</th><td>0.313244</td><td>0.108871</td><td>0.285698</td><td>0.255981</td><td>0.20923</td></tr></tbody></table>"
      ],
      "text/latex": [
       "\\begin{tabular}{r|ccccc}\n",
       "\t& x1 & x2 & x3 & x4 & x5\\\\\n",
       "\t\\hline\n",
       "\t& Float64 & Float64 & Float64 & Float64 & Float64\\\\\n",
       "\t\\hline\n",
       "\t1 & 0.768448 & 0.662555 & 0.163666 & 0.463847 & 0.70586 \\\\\n",
       "\t2 & 0.940515 & 0.586022 & 0.473017 & 0.275819 & 0.291978 \\\\\n",
       "\t3 & 0.673959 & 0.0521332 & 0.865412 & 0.446568 & 0.281066 \\\\\n",
       "\t4 & 0.395453 & 0.26864 & 0.617492 & 0.582318 & 0.792931 \\\\\n",
       "\t5 & 0.313244 & 0.108871 & 0.285698 & 0.255981 & 0.20923 \\\\\n",
       "\\end{tabular}\n"
      ],
      "text/plain": [
       "\u001b[1m5×5 DataFrame\u001b[0m\n",
       "\u001b[1m Row \u001b[0m│\u001b[1m x1       \u001b[0m\u001b[1m x2        \u001b[0m\u001b[1m x3       \u001b[0m\u001b[1m x4       \u001b[0m\u001b[1m x5       \u001b[0m\n",
       "\u001b[1m     \u001b[0m│\u001b[90m Float64  \u001b[0m\u001b[90m Float64   \u001b[0m\u001b[90m Float64  \u001b[0m\u001b[90m Float64  \u001b[0m\u001b[90m Float64  \u001b[0m\n",
       "─────┼───────────────────────────────────────────────────\n",
       "   1 │ 0.768448  0.662555   0.163666  0.463847  0.70586\n",
       "   2 │ 0.940515  0.586022   0.473017  0.275819  0.291978\n",
       "   3 │ 0.673959  0.0521332  0.865412  0.446568  0.281066\n",
       "   4 │ 0.395453  0.26864    0.617492  0.582318  0.792931\n",
       "   5 │ 0.313244  0.108871   0.285698  0.255981  0.20923"
      ]
     },
     "execution_count": 10,
     "metadata": {},
     "output_type": "execute_result"
    }
   ],
   "source": [
    "begin\n",
    "    using DataFrames, Random\n",
    "    Random.seed!(123)\n",
    "    fake_data = rand(5, 5)\n",
    "    df = DataFrame(fake_data)\n",
    "end"
   ]
  },
  {
   "cell_type": "code",
   "execution_count": 11,
   "id": "invalid-fireplace",
   "metadata": {},
   "outputs": [
    {
     "data": {
      "text/html": [
       "<table class=\"data-frame\"><thead><tr><th></th><th>one</th><th>two</th><th>three</th><th>four</th><th>five</th></tr><tr><th></th><th>Float64</th><th>Float64</th><th>Float64</th><th>Float64</th><th>Float64</th></tr></thead><tbody><p>5 rows × 5 columns</p><tr><th>1</th><td>0.768448</td><td>0.662555</td><td>0.163666</td><td>0.463847</td><td>0.70586</td></tr><tr><th>2</th><td>0.940515</td><td>0.586022</td><td>0.473017</td><td>0.275819</td><td>0.291978</td></tr><tr><th>3</th><td>0.673959</td><td>0.0521332</td><td>0.865412</td><td>0.446568</td><td>0.281066</td></tr><tr><th>4</th><td>0.395453</td><td>0.26864</td><td>0.617492</td><td>0.582318</td><td>0.792931</td></tr><tr><th>5</th><td>0.313244</td><td>0.108871</td><td>0.285698</td><td>0.255981</td><td>0.20923</td></tr></tbody></table>"
      ],
      "text/latex": [
       "\\begin{tabular}{r|ccccc}\n",
       "\t& one & two & three & four & five\\\\\n",
       "\t\\hline\n",
       "\t& Float64 & Float64 & Float64 & Float64 & Float64\\\\\n",
       "\t\\hline\n",
       "\t1 & 0.768448 & 0.662555 & 0.163666 & 0.463847 & 0.70586 \\\\\n",
       "\t2 & 0.940515 & 0.586022 & 0.473017 & 0.275819 & 0.291978 \\\\\n",
       "\t3 & 0.673959 & 0.0521332 & 0.865412 & 0.446568 & 0.281066 \\\\\n",
       "\t4 & 0.395453 & 0.26864 & 0.617492 & 0.582318 & 0.792931 \\\\\n",
       "\t5 & 0.313244 & 0.108871 & 0.285698 & 0.255981 & 0.20923 \\\\\n",
       "\\end{tabular}\n"
      ],
      "text/plain": [
       "\u001b[1m5×5 DataFrame\u001b[0m\n",
       "\u001b[1m Row \u001b[0m│\u001b[1m one      \u001b[0m\u001b[1m two       \u001b[0m\u001b[1m three    \u001b[0m\u001b[1m four     \u001b[0m\u001b[1m five     \u001b[0m\n",
       "\u001b[1m     \u001b[0m│\u001b[90m Float64  \u001b[0m\u001b[90m Float64   \u001b[0m\u001b[90m Float64  \u001b[0m\u001b[90m Float64  \u001b[0m\u001b[90m Float64  \u001b[0m\n",
       "─────┼───────────────────────────────────────────────────\n",
       "   1 │ 0.768448  0.662555   0.163666  0.463847  0.70586\n",
       "   2 │ 0.940515  0.586022   0.473017  0.275819  0.291978\n",
       "   3 │ 0.673959  0.0521332  0.865412  0.446568  0.281066\n",
       "   4 │ 0.395453  0.26864    0.617492  0.582318  0.792931\n",
       "   5 │ 0.313244  0.108871   0.285698  0.255981  0.20923"
      ]
     },
     "execution_count": 11,
     "metadata": {},
     "output_type": "execute_result"
    }
   ],
   "source": [
    "rename!(df, [\"one\", \"two\", \"three\", \"four\", \"five\"])"
   ]
  },
  {
   "cell_type": "code",
   "execution_count": 12,
   "id": "cleared-guidance",
   "metadata": {},
   "outputs": [
    {
     "data": {
      "text/html": [
       "<table class=\"data-frame\"><thead><tr><th></th><th>column1</th><th>column2</th><th>column3</th></tr><tr><th></th><th>Int64</th><th>Int64</th><th>Int64</th></tr></thead><tbody><p>10 rows × 3 columns</p><tr><th>1</th><td>1</td><td>2</td><td>3</td></tr><tr><th>2</th><td>2</td><td>4</td><td>6</td></tr><tr><th>3</th><td>3</td><td>6</td><td>9</td></tr><tr><th>4</th><td>4</td><td>8</td><td>12</td></tr><tr><th>5</th><td>5</td><td>10</td><td>15</td></tr><tr><th>6</th><td>6</td><td>12</td><td>18</td></tr><tr><th>7</th><td>7</td><td>14</td><td>21</td></tr><tr><th>8</th><td>8</td><td>16</td><td>24</td></tr><tr><th>9</th><td>9</td><td>18</td><td>27</td></tr><tr><th>10</th><td>10</td><td>20</td><td>30</td></tr></tbody></table>"
      ],
      "text/latex": [
       "\\begin{tabular}{r|ccc}\n",
       "\t& column1 & column2 & column3\\\\\n",
       "\t\\hline\n",
       "\t& Int64 & Int64 & Int64\\\\\n",
       "\t\\hline\n",
       "\t1 & 1 & 2 & 3 \\\\\n",
       "\t2 & 2 & 4 & 6 \\\\\n",
       "\t3 & 3 & 6 & 9 \\\\\n",
       "\t4 & 4 & 8 & 12 \\\\\n",
       "\t5 & 5 & 10 & 15 \\\\\n",
       "\t6 & 6 & 12 & 18 \\\\\n",
       "\t7 & 7 & 14 & 21 \\\\\n",
       "\t8 & 8 & 16 & 24 \\\\\n",
       "\t9 & 9 & 18 & 27 \\\\\n",
       "\t10 & 10 & 20 & 30 \\\\\n",
       "\\end{tabular}\n"
      ],
      "text/plain": [
       "\u001b[1m10×3 DataFrame\u001b[0m\n",
       "\u001b[1m Row \u001b[0m│\u001b[1m column1 \u001b[0m\u001b[1m column2 \u001b[0m\u001b[1m column3 \u001b[0m\n",
       "\u001b[1m     \u001b[0m│\u001b[90m Int64   \u001b[0m\u001b[90m Int64   \u001b[0m\u001b[90m Int64   \u001b[0m\n",
       "─────┼───────────────────────────\n",
       "   1 │       1        2        3\n",
       "   2 │       2        4        6\n",
       "   3 │       3        6        9\n",
       "   4 │       4        8       12\n",
       "   5 │       5       10       15\n",
       "   6 │       6       12       18\n",
       "   7 │       7       14       21\n",
       "   8 │       8       16       24\n",
       "   9 │       9       18       27\n",
       "  10 │      10       20       30"
      ]
     },
     "execution_count": 12,
     "metadata": {},
     "output_type": "execute_result"
    }
   ],
   "source": [
    "DataFrame(column1=1:10, column2=2:2:20, column3=3:3:30)"
   ]
  },
  {
   "cell_type": "code",
   "execution_count": 13,
   "id": "smoking-record",
   "metadata": {},
   "outputs": [
    {
     "data": {
      "text/html": [
       "<table class=\"data-frame\"><thead><tr><th></th><th>Names</th><th>Countries</th><th>Ages</th></tr><tr><th></th><th>String</th><th>String</th><th>Int64</th></tr></thead><tbody><p>1 rows × 3 columns</p><tr><th>1</th><td>Juan</td><td>Argentina</td><td>24</td></tr></tbody></table>"
      ],
      "text/latex": [
       "\\begin{tabular}{r|ccc}\n",
       "\t& Names & Countries & Ages\\\\\n",
       "\t\\hline\n",
       "\t& String & String & Int64\\\\\n",
       "\t\\hline\n",
       "\t1 & Juan & Argentina & 24 \\\\\n",
       "\\end{tabular}\n"
      ],
      "text/plain": [
       "\u001b[1m1×3 DataFrame\u001b[0m\n",
       "\u001b[1m Row \u001b[0m│\u001b[1m Names  \u001b[0m\u001b[1m Countries \u001b[0m\u001b[1m Ages  \u001b[0m\n",
       "\u001b[1m     \u001b[0m│\u001b[90m String \u001b[0m\u001b[90m String    \u001b[0m\u001b[90m Int64 \u001b[0m\n",
       "─────┼──────────────────────────\n",
       "   1 │ Juan    Argentina     24"
      ]
     },
     "execution_count": 13,
     "metadata": {},
     "output_type": "execute_result"
    }
   ],
   "source": [
    "begin\n",
    "    df_ = DataFrame(Names = String[],\n",
    "            Countries = String[],\n",
    "            Ages = Int64[])\n",
    "    df_ = vcat(df_, DataFrame(Names = \"Juan\", Countries = \"Argentina\", Ages = 24))\n",
    "end"
   ]
  },
  {
   "cell_type": "code",
   "execution_count": 15,
   "id": "different-tackle",
   "metadata": {},
   "outputs": [
    {
     "data": {
      "text/html": [
       "<table class=\"data-frame\"><thead><tr><th></th><th>Names</th><th>Countries</th><th>Ages</th><th>height</th></tr><tr><th></th><th>String</th><th>String</th><th>Int64</th><th>Float64</th></tr></thead><tbody><p>1 rows × 4 columns</p><tr><th>1</th><td>Juan</td><td>Argentina</td><td>24</td><td>1.72</td></tr></tbody></table>"
      ],
      "text/latex": [
       "\\begin{tabular}{r|cccc}\n",
       "\t& Names & Countries & Ages & height\\\\\n",
       "\t\\hline\n",
       "\t& String & String & Int64 & Float64\\\\\n",
       "\t\\hline\n",
       "\t1 & Juan & Argentina & 24 & 1.72 \\\\\n",
       "\\end{tabular}\n"
      ],
      "text/plain": [
       "\u001b[1m1×4 DataFrame\u001b[0m\n",
       "\u001b[1m Row \u001b[0m│\u001b[1m Names  \u001b[0m\u001b[1m Countries \u001b[0m\u001b[1m Ages  \u001b[0m\u001b[1m height  \u001b[0m\n",
       "\u001b[1m     \u001b[0m│\u001b[90m String \u001b[0m\u001b[90m String    \u001b[0m\u001b[90m Int64 \u001b[0m\u001b[90m Float64 \u001b[0m\n",
       "─────┼───────────────────────────────────\n",
       "   1 │ Juan    Argentina     24     1.72"
      ]
     },
     "execution_count": 15,
     "metadata": {},
     "output_type": "execute_result"
    }
   ],
   "source": [
    "begin\n",
    "    df_.height = [1.72]\n",
    "    df_\n",
    "end"
   ]
  },
  {
   "cell_type": "code",
   "execution_count": 16,
   "id": "precious-morgan",
   "metadata": {},
   "outputs": [
    {
     "data": {
      "text/plain": [
       "5-element Vector{Float64}:\n",
       " 0.16366581948600145\n",
       " 0.4730168160953825\n",
       " 0.8654121434083455\n",
       " 0.617491887982287\n",
       " 0.2856979003853177"
      ]
     },
     "execution_count": 16,
     "metadata": {},
     "output_type": "execute_result"
    }
   ],
   "source": [
    "df.three"
   ]
  },
  {
   "cell_type": "code",
   "execution_count": 17,
   "id": "limiting-gibson",
   "metadata": {},
   "outputs": [
    {
     "data": {
      "text/plain": [
       "5-element Vector{Float64}:\n",
       " 0.16366581948600145\n",
       " 0.4730168160953825\n",
       " 0.8654121434083455\n",
       " 0.617491887982287\n",
       " 0.2856979003853177"
      ]
     },
     "execution_count": 17,
     "metadata": {},
     "output_type": "execute_result"
    }
   ],
   "source": [
    "df.\"three\""
   ]
  },
  {
   "cell_type": "code",
   "execution_count": null,
   "id": "interstate-haven",
   "metadata": {},
   "outputs": [],
   "source": []
  }
 ],
 "metadata": {
  "kernelspec": {
   "display_name": "Julia 1.7.0-DEV",
   "language": "julia",
   "name": "julia-1.7"
  },
  "language_info": {
   "file_extension": ".jl",
   "mimetype": "application/julia",
   "name": "julia",
   "version": "1.7.0"
  }
 },
 "nbformat": 4,
 "nbformat_minor": 5
}
